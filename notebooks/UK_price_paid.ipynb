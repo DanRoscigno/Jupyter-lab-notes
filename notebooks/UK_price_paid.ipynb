{
 "cells": [
  {
   "cell_type": "markdown",
   "id": "31a4adaa-def9-4ff3-93fa-a6e4a9df4cdf",
   "metadata": {},
   "source": [
    "# Get started with ClickHouse\n",
    "\n",
    "ClickHouse is an column-oriented SQL database management system for for online analytical processing (OLAP). In this tutorial you will:\n",
    "1. Configure some Python packages for the database connection and data analysis/visualization\n",
    "2. Connect to a sample ClickHouse system\n",
    "4. Query a public dataset of home prices in the United Kingdom\n",
    "5. Generate a chart using the home price data "
   ]
  },
  {
   "cell_type": "markdown",
   "id": "e91f4879-d772-462d-9432-378ecba6e966",
   "metadata": {},
   "source": [
    "### 1. Configure some Python packages\n",
    "   - `clickhouse_connect` is a database driver for connecting ClickHouse to Python. It is also used to connect to Superset and Pandas.\n",
    "   - `pandas` is a data analysis toolkit for Python.\n",
    "   - `matpotlib` is a library for creating static and interactive visualiztions in Python."
   ]
  },
  {
   "cell_type": "code",
   "execution_count": 1,
   "id": "486cdc1e-f8e9-4299-8504-1bd66278a877",
   "metadata": {},
   "outputs": [
    {
     "name": "stdout",
     "output_type": "stream",
     "text": [
      "Requirement already satisfied: clickhouse_connect in ./.venv/lib/python3.12/site-packages (0.7.19)\n",
      "Requirement already satisfied: certifi in ./.venv/lib/python3.12/site-packages (from clickhouse_connect) (2024.8.30)\n",
      "Requirement already satisfied: urllib3>=1.26 in ./.venv/lib/python3.12/site-packages (from clickhouse_connect) (2.2.3)\n",
      "Requirement already satisfied: pytz in ./.venv/lib/python3.12/site-packages (from clickhouse_connect) (2024.2)\n",
      "Requirement already satisfied: zstandard in ./.venv/lib/python3.12/site-packages (from clickhouse_connect) (0.23.0)\n",
      "Requirement already satisfied: lz4 in ./.venv/lib/python3.12/site-packages (from clickhouse_connect) (4.3.3)\n"
     ]
    }
   ],
   "source": [
    "import sys\n",
    "!{sys.executable} -m pip install clickhouse_connect"
   ]
  },
  {
   "cell_type": "code",
   "execution_count": 2,
   "id": "a153fe84-d355-49c9-ade9-a852d21f6698",
   "metadata": {},
   "outputs": [
    {
     "name": "stdout",
     "output_type": "stream",
     "text": [
      "Requirement already satisfied: pandas in ./.venv/lib/python3.12/site-packages (2.2.3)\n",
      "Requirement already satisfied: numpy>=1.26.0 in ./.venv/lib/python3.12/site-packages (from pandas) (2.1.1)\n",
      "Requirement already satisfied: python-dateutil>=2.8.2 in ./.venv/lib/python3.12/site-packages (from pandas) (2.9.0.post0)\n",
      "Requirement already satisfied: pytz>=2020.1 in ./.venv/lib/python3.12/site-packages (from pandas) (2024.2)\n",
      "Requirement already satisfied: tzdata>=2022.7 in ./.venv/lib/python3.12/site-packages (from pandas) (2024.1)\n",
      "Requirement already satisfied: six>=1.5 in ./.venv/lib/python3.12/site-packages (from python-dateutil>=2.8.2->pandas) (1.16.0)\n"
     ]
    }
   ],
   "source": [
    "!{sys.executable} -m pip install pandas\n",
    "import pandas as pd"
   ]
  },
  {
   "cell_type": "code",
   "execution_count": 3,
   "id": "fe76b7e1-e67a-48f9-9daa-20bcc7ccb6a6",
   "metadata": {},
   "outputs": [],
   "source": [
    "import matplotlib.pyplot as plt"
   ]
  },
  {
   "cell_type": "code",
   "execution_count": null,
   "id": "7b27b13d-7529-4b55-8ed8-00917ac6403a",
   "metadata": {},
   "outputs": [],
   "source": []
  },
  {
   "cell_type": "markdown",
   "id": "391e49f8-dad4-40a3-8939-fdf8e2858546",
   "metadata": {},
   "source": [
    "### 2. Connect to ClickHouse\n",
    "The ClickHouse system used in this tutorial is a public read-only system. Because it is publicly available the connection details are configured directly in this notebook. When using your own system you should configure the connection based on your security needs. At a minimum you should use a `.env` file. More information about this and other topics is linked at the end, but we suggest that you follow the tutorial first and then read more.\n",
    "\n",
    "The connection details are host, port, username, andpassword. `clickhouse-connect` has more optional parameters to tune the connection, but the defaults are fine for the `play.clickhouse.com` system."
   ]
  },
  {
   "cell_type": "code",
   "execution_count": 4,
   "id": "d4f8e880-548f-43a4-bc2d-a3a50bbe5adc",
   "metadata": {},
   "outputs": [],
   "source": [
    "ch_host = \"play.clickhouse.com\"\n",
    "ch_port = 443\n",
    "ch_username = \"play\"\n",
    "ch_password = \"\""
   ]
  },
  {
   "cell_type": "code",
   "execution_count": 5,
   "id": "4578c970-4d17-476b-9d14-91324618bf05",
   "metadata": {},
   "outputs": [],
   "source": [
    "import clickhouse_connect\n",
    "client = clickhouse_connect.get_client(\n",
    "    host=ch_host, \n",
    "    port=ch_port,\n",
    "    secure='true',\n",
    "    username=ch_username, \n",
    "    password=ch_password)"
   ]
  },
  {
   "cell_type": "markdown",
   "id": "90cc1e97-84ea-4b5a-a55e-7707d07ef370",
   "metadata": {},
   "source": [
    "### 3. Query a public dataset"
   ]
  },
  {
   "cell_type": "code",
   "execution_count": 6,
   "id": "b6f6c140-7d05-4925-80c0-2eb999e636b1",
   "metadata": {},
   "outputs": [
    {
     "data": {
      "text/html": [
       "<style type=\"text/css\">\n",
       "</style>\n",
       "<table id=\"T_1a43f\">\n",
       "  <thead>\n",
       "    <tr>\n",
       "      <th id=\"T_1a43f_level0_col0\" class=\"col_heading level0 col0\" >price</th>\n",
       "      <th id=\"T_1a43f_level0_col1\" class=\"col_heading level0 col1\" >locality</th>\n",
       "      <th id=\"T_1a43f_level0_col2\" class=\"col_heading level0 col2\" >town</th>\n",
       "      <th id=\"T_1a43f_level0_col3\" class=\"col_heading level0 col3\" >county</th>\n",
       "    </tr>\n",
       "  </thead>\n",
       "  <tbody>\n",
       "    <tr>\n",
       "      <td id=\"T_1a43f_row0_col0\" class=\"data row0 col0\" >900000000</td>\n",
       "      <td id=\"T_1a43f_row0_col1\" class=\"data row0 col1\" ></td>\n",
       "      <td id=\"T_1a43f_row0_col2\" class=\"data row0 col2\" >ASHFORD</td>\n",
       "      <td id=\"T_1a43f_row0_col3\" class=\"data row0 col3\" >KENT</td>\n",
       "    </tr>\n",
       "    <tr>\n",
       "      <td id=\"T_1a43f_row1_col0\" class=\"data row1 col0\" >594300000</td>\n",
       "      <td id=\"T_1a43f_row1_col1\" class=\"data row1 col1\" ></td>\n",
       "      <td id=\"T_1a43f_row1_col2\" class=\"data row1 col2\" >LONDON</td>\n",
       "      <td id=\"T_1a43f_row1_col3\" class=\"data row1 col3\" >GREATER LONDON</td>\n",
       "    </tr>\n",
       "    <tr>\n",
       "      <td id=\"T_1a43f_row2_col0\" class=\"data row2 col0\" >569200000</td>\n",
       "      <td id=\"T_1a43f_row2_col1\" class=\"data row2 col1\" ></td>\n",
       "      <td id=\"T_1a43f_row2_col2\" class=\"data row2 col2\" >LONDON</td>\n",
       "      <td id=\"T_1a43f_row2_col3\" class=\"data row2 col3\" >GREATER LONDON</td>\n",
       "    </tr>\n",
       "    <tr>\n",
       "      <td id=\"T_1a43f_row3_col0\" class=\"data row3 col0\" >542540820</td>\n",
       "      <td id=\"T_1a43f_row3_col1\" class=\"data row3 col1\" ></td>\n",
       "      <td id=\"T_1a43f_row3_col2\" class=\"data row3 col2\" >LONDON</td>\n",
       "      <td id=\"T_1a43f_row3_col3\" class=\"data row3 col3\" >GREATER LONDON</td>\n",
       "    </tr>\n",
       "    <tr>\n",
       "      <td id=\"T_1a43f_row4_col0\" class=\"data row4 col0\" >523000000</td>\n",
       "      <td id=\"T_1a43f_row4_col1\" class=\"data row4 col1\" ></td>\n",
       "      <td id=\"T_1a43f_row4_col2\" class=\"data row4 col2\" >LONDON</td>\n",
       "      <td id=\"T_1a43f_row4_col3\" class=\"data row4 col3\" >GREATER LONDON</td>\n",
       "    </tr>\n",
       "    <tr>\n",
       "      <td id=\"T_1a43f_row5_col0\" class=\"data row5 col0\" >494400000</td>\n",
       "      <td id=\"T_1a43f_row5_col1\" class=\"data row5 col1\" >METHLEY</td>\n",
       "      <td id=\"T_1a43f_row5_col2\" class=\"data row5 col2\" >LEEDS</td>\n",
       "      <td id=\"T_1a43f_row5_col3\" class=\"data row5 col3\" >WEST YORKSHIRE</td>\n",
       "    </tr>\n",
       "    <tr>\n",
       "      <td id=\"T_1a43f_row6_col0\" class=\"data row6 col0\" >494400000</td>\n",
       "      <td id=\"T_1a43f_row6_col1\" class=\"data row6 col1\" >METHLEY</td>\n",
       "      <td id=\"T_1a43f_row6_col2\" class=\"data row6 col2\" >LEEDS</td>\n",
       "      <td id=\"T_1a43f_row6_col3\" class=\"data row6 col3\" >WEST YORKSHIRE</td>\n",
       "    </tr>\n",
       "    <tr>\n",
       "      <td id=\"T_1a43f_row7_col0\" class=\"data row7 col0\" >480000000</td>\n",
       "      <td id=\"T_1a43f_row7_col1\" class=\"data row7 col1\" ></td>\n",
       "      <td id=\"T_1a43f_row7_col2\" class=\"data row7 col2\" >WOLVERHAMPTON</td>\n",
       "      <td id=\"T_1a43f_row7_col3\" class=\"data row7 col3\" >WEST MIDLANDS</td>\n",
       "    </tr>\n",
       "    <tr>\n",
       "      <td id=\"T_1a43f_row8_col0\" class=\"data row8 col0\" >480000000</td>\n",
       "      <td id=\"T_1a43f_row8_col1\" class=\"data row8 col1\" ></td>\n",
       "      <td id=\"T_1a43f_row8_col2\" class=\"data row8 col2\" >WOLVERHAMPTON</td>\n",
       "      <td id=\"T_1a43f_row8_col3\" class=\"data row8 col3\" >WEST MIDLANDS</td>\n",
       "    </tr>\n",
       "    <tr>\n",
       "      <td id=\"T_1a43f_row9_col0\" class=\"data row9 col0\" >480000000</td>\n",
       "      <td id=\"T_1a43f_row9_col1\" class=\"data row9 col1\" ></td>\n",
       "      <td id=\"T_1a43f_row9_col2\" class=\"data row9 col2\" >WOLVERHAMPTON</td>\n",
       "      <td id=\"T_1a43f_row9_col3\" class=\"data row9 col3\" >WEST MIDLANDS</td>\n",
       "    </tr>\n",
       "    <tr>\n",
       "      <td id=\"T_1a43f_row10_col0\" class=\"data row10 col0\" >448500000</td>\n",
       "      <td id=\"T_1a43f_row10_col1\" class=\"data row10 col1\" ></td>\n",
       "      <td id=\"T_1a43f_row10_col2\" class=\"data row10 col2\" >LONDON</td>\n",
       "      <td id=\"T_1a43f_row10_col3\" class=\"data row10 col3\" >GREATER LONDON</td>\n",
       "    </tr>\n",
       "    <tr>\n",
       "      <td id=\"T_1a43f_row11_col0\" class=\"data row11 col0\" >448300979</td>\n",
       "      <td id=\"T_1a43f_row11_col1\" class=\"data row11 col1\" ></td>\n",
       "      <td id=\"T_1a43f_row11_col2\" class=\"data row11 col2\" >NEWCASTLE UPON TYNE</td>\n",
       "      <td id=\"T_1a43f_row11_col3\" class=\"data row11 col3\" >TYNE AND WEAR</td>\n",
       "    </tr>\n",
       "    <tr>\n",
       "      <td id=\"T_1a43f_row12_col0\" class=\"data row12 col0\" >429000000</td>\n",
       "      <td id=\"T_1a43f_row12_col1\" class=\"data row12 col1\" ></td>\n",
       "      <td id=\"T_1a43f_row12_col2\" class=\"data row12 col2\" >LONDON</td>\n",
       "      <td id=\"T_1a43f_row12_col3\" class=\"data row12 col3\" >GREATER LONDON</td>\n",
       "    </tr>\n",
       "    <tr>\n",
       "      <td id=\"T_1a43f_row13_col0\" class=\"data row13 col0\" >421364142</td>\n",
       "      <td id=\"T_1a43f_row13_col1\" class=\"data row13 col1\" ></td>\n",
       "      <td id=\"T_1a43f_row13_col2\" class=\"data row13 col2\" >LONDON</td>\n",
       "      <td id=\"T_1a43f_row13_col3\" class=\"data row13 col3\" >GREATER LONDON</td>\n",
       "    </tr>\n",
       "    <tr>\n",
       "      <td id=\"T_1a43f_row14_col0\" class=\"data row14 col0\" >415000000</td>\n",
       "      <td id=\"T_1a43f_row14_col1\" class=\"data row14 col1\" ></td>\n",
       "      <td id=\"T_1a43f_row14_col2\" class=\"data row14 col2\" >WALSALL</td>\n",
       "      <td id=\"T_1a43f_row14_col3\" class=\"data row14 col3\" >WEST MIDLANDS</td>\n",
       "    </tr>\n",
       "    <tr>\n",
       "      <td id=\"T_1a43f_row15_col0\" class=\"data row15 col0\" >415000000</td>\n",
       "      <td id=\"T_1a43f_row15_col1\" class=\"data row15 col1\" ></td>\n",
       "      <td id=\"T_1a43f_row15_col2\" class=\"data row15 col2\" >WALSALL</td>\n",
       "      <td id=\"T_1a43f_row15_col3\" class=\"data row15 col3\" >WEST MIDLANDS</td>\n",
       "    </tr>\n",
       "    <tr>\n",
       "      <td id=\"T_1a43f_row16_col0\" class=\"data row16 col0\" >414108660</td>\n",
       "      <td id=\"T_1a43f_row16_col1\" class=\"data row16 col1\" ></td>\n",
       "      <td id=\"T_1a43f_row16_col2\" class=\"data row16 col2\" >OXFORD</td>\n",
       "      <td id=\"T_1a43f_row16_col3\" class=\"data row16 col3\" >OXFORDSHIRE</td>\n",
       "    </tr>\n",
       "    <tr>\n",
       "      <td id=\"T_1a43f_row17_col0\" class=\"data row17 col0\" >411500000</td>\n",
       "      <td id=\"T_1a43f_row17_col1\" class=\"data row17 col1\" ></td>\n",
       "      <td id=\"T_1a43f_row17_col2\" class=\"data row17 col2\" >LONDON</td>\n",
       "      <td id=\"T_1a43f_row17_col3\" class=\"data row17 col3\" >GREATER LONDON</td>\n",
       "    </tr>\n",
       "    <tr>\n",
       "      <td id=\"T_1a43f_row18_col0\" class=\"data row18 col0\" >400000000</td>\n",
       "      <td id=\"T_1a43f_row18_col1\" class=\"data row18 col1\" ></td>\n",
       "      <td id=\"T_1a43f_row18_col2\" class=\"data row18 col2\" >LONDON</td>\n",
       "      <td id=\"T_1a43f_row18_col3\" class=\"data row18 col3\" >GREATER LONDON</td>\n",
       "    </tr>\n",
       "    <tr>\n",
       "      <td id=\"T_1a43f_row19_col0\" class=\"data row19 col0\" >372600000</td>\n",
       "      <td id=\"T_1a43f_row19_col1\" class=\"data row19 col1\" ></td>\n",
       "      <td id=\"T_1a43f_row19_col2\" class=\"data row19 col2\" >LONDON</td>\n",
       "      <td id=\"T_1a43f_row19_col3\" class=\"data row19 col3\" >GREATER LONDON</td>\n",
       "    </tr>\n",
       "  </tbody>\n",
       "</table>\n"
      ],
      "text/plain": [
       "<pandas.io.formats.style.Styler at 0x78b0a8e5acc0>"
      ]
     },
     "execution_count": 6,
     "metadata": {},
     "output_type": "execute_result"
    }
   ],
   "source": [
    "uk_prices = \"\"\"select price, locality, town, county from default.uk_price_paid ORDER BY price DESC LIMIT 20\"\"\"\n",
    "result = client.query(uk_prices)\n",
    "df = pd.DataFrame(result.result_set,\n",
    "                  columns=['price', \n",
    "                     'locality', \n",
    "                     'town', \n",
    "                     'county'])\n",
    "df.style.hide(axis='index')\n"
   ]
  },
  {
   "cell_type": "code",
   "execution_count": 8,
   "id": "f760551f-ad89-4e9a-b839-8b11196c49c3",
   "metadata": {},
   "outputs": [
    {
     "data": {
      "text/plain": [
       "[<matplotlib.lines.Line2D at 0x78b0a8bee840>]"
      ]
     },
     "execution_count": 8,
     "metadata": {},
     "output_type": "execute_result"
    },
    {
     "data": {
      "image/png": "[encoded data removed]",
      "text/plain": [
       "<Figure size 1400x600 with 1 Axes>"
      ]
     },
     "metadata": {},
     "output_type": "display_data"
    }
   ],
   "source": [
    "plt.rcParams[\"figure.figsize\"] = (14,6)\n",
    "#define colors to use\n",
    "col1 = '#D3006B'\n",
    "col2 = 'red'\n",
    "\n",
    "#define subplots\n",
    "fig,ax = plt.subplots()\n",
    "ax.plot(df.price, df.town, color=col1)"
   ]
  },
  {
   "cell_type": "markdown",
   "id": "c2727c53-078e-4879-9251-0b64a5481f4a",
   "metadata": {},
   "source": [
    "## Further reading\n",
    "- [`python-dotenv`](https://pypi.org/project/python-dotenv/) for storing credentials in a `.env` file\n",
    "- clickhouse-connect\n",
    "- pandas\n",
    "- matplotlib\n",
    "- UK Price Paid data\n",
    "- dataframes"
   ]
  },
  {
   "cell_type": "code",
   "execution_count": null,
   "id": "299ce938-9fae-43e3-827c-a28e6e76ab8c",
   "metadata": {},
   "outputs": [],
   "source": []
  }
 ],
 "metadata": {
  "kernelspec": {
   "display_name": "Python 3 (ipykernel)",
   "language": "python",
   "name": "python3"
  },
  "language_info": {
   "codemirror_mode": {
    "name": "ipython",
    "version": 3
   },
   "file_extension": ".py",
   "mimetype": "text/x-python",
   "name": "python",
   "nbconvert_exporter": "python",
   "pygments_lexer": "ipython3",
   "version": "3.12.3"
  }
 },
 "nbformat": 4,
 "nbformat_minor": 5
}
